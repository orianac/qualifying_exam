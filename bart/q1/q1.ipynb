{
 "cells": [
  {
   "cell_type": "code",
   "execution_count": 1,
   "metadata": {
    "collapsed": true
   },
   "outputs": [],
   "source": [
    "import pandas as pd\n",
    "import matplotlib.pyplot as plt"
   ]
  },
  {
   "cell_type": "code",
   "execution_count": 2,
   "metadata": {
    "collapsed": true
   },
   "outputs": [],
   "source": [
    "def read_ascii_vic_forcings(path, index):\n",
    "    variable_names = ['precipitation', 'tmax', 'tmin', 'wind']\n",
    "    df = pd.read_csv(path, sep='\\t', header=None, names=variable_names)\n",
    "    df.index=index                                                     \n",
    "    df = df.drop(['precipitation', 'wind'], axis=1)                    \n",
    "    df.index.rename('date')                                            \n",
    "    return df"
   ]
  },
  {
   "cell_type": "code",
   "execution_count": null,
   "metadata": {
    "collapsed": true
   },
   "outputs": [],
   "source": [
    "temp = read_ascii_vic_forcings()\n",
    "\n",
    "# Read in ascii file\n",
    "# Average temp to get average daily temp\n",
    "# Run model\n",
    "# Plot scatter plot of day of year\n",
    "# Plot scatter plot of max SWE"
   ]
  }
 ],
 "metadata": {
  "kernelspec": {
   "display_name": "Python 3",
   "language": "python",
   "name": "python3"
  },
  "language_info": {
   "codemirror_mode": {
    "name": "ipython",
    "version": 3
   },
   "file_extension": ".py",
   "mimetype": "text/x-python",
   "name": "python",
   "nbconvert_exporter": "python",
   "pygments_lexer": "ipython3",
   "version": "3.5.4"
  }
 },
 "nbformat": 4,
 "nbformat_minor": 2
}
