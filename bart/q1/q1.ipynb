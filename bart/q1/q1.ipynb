{
 "cells": [
  {
   "cell_type": "code",
   "execution_count": 1,
   "metadata": {
    "collapsed": true
   },
   "outputs": [],
   "source": [
    "%matplotlib inline\n",
    "import pandas as pd\n",
    "import matplotlib.pyplot as plt\n",
    "import numpy as np"
   ]
  },
  {
   "cell_type": "code",
   "execution_count": 2,
   "metadata": {
    "collapsed": true
   },
   "outputs": [],
   "source": [
    "def read_ascii_vic_forcings(path, index):\n",
    "    variable_names = ['precipitation', 'tmax', 'tmin', 'wind']\n",
    "    df = pd.read_csv(path, sep='\\t', header=None, names=variable_names)\n",
    "    df.index=index                                                     \n",
    "    df = df.drop(['wind'], axis=1)                    \n",
    "    df.index.rename('date')                                            \n",
    "    return df"
   ]
  },
  {
   "cell_type": "code",
   "execution_count": 3,
   "metadata": {
    "collapsed": true
   },
   "outputs": [],
   "source": [
    "def read_snotel(path):\n",
    "    df = pd.read_csv(path, skiprows=3, parse_dates=True, index_col='Date')\n",
    "    \n",
    "    # Clean up the dataframe and convert to millimeters\n",
    "    df = df.drop(['Site Id', 'Time', 'Unnamed: 4'], axis=1).rename(columns={'WTEQ.I-1 (in) ': 'SWE (mm)'})*25.4\n",
    "    # Drop last row because the SNOTEL data has an extra superfluous row at the end\n",
    "    return df"
   ]
  },
  {
   "cell_type": "code",
   "execution_count": 4,
   "metadata": {
    "collapsed": true
   },
   "outputs": [],
   "source": [
    "def calculate_first_snowfree_day(df, wateryear):\n",
    "    snow_free = df.truncate(before=str(wateryear)+'-04-01')[df.truncate(before=str(wateryear)+'-04-01')['SWE (mm)'] == 0]\n",
    "    first_snowfree_day = snow_free.index[0]\n",
    "    return first_snowfree_day"
   ]
  },
  {
   "cell_type": "code",
   "execution_count": 5,
   "metadata": {
    "collapsed": true
   },
   "outputs": [],
   "source": [
    "def run_forward_model(met_data_wy, albedo_adjustment=0):\n",
    "    forward_model = pd.DataFrame(index=met_data_wy.index, columns=['SWE', 'Albedo'])\n",
    "    bare_soil_albedo = 0\n",
    "    albedo = bare_soil_albedo\n",
    "    days_since_last_snowfall = 0\n",
    "    has_it_snowed = False\n",
    "    swe = 0\n",
    "    for index_value in met_data_wy.index:\n",
    "        # Access the met data for that day\n",
    "        ta = met_data_wy.get_value(index_value, 'ta')\n",
    "        precip = met_data_wy.get_value(index_value, 'precipitation')\n",
    "\n",
    "        # Since we only care about snowfall and we are ignoring rainfall, we only care if temperature is below zero\n",
    "    #     if ta < 0:\n",
    "        if precip > 0:\n",
    "            # If precipitation falls we'll record it in our fallen SWE tracker only if average air temperature is below zero\n",
    "            if ta < 0:\n",
    "                has_it_snowed = True\n",
    "                days_since_last_snowfall = 0\n",
    "                swe += precip\n",
    "                albedo = 0.85\n",
    "            # Key shortcoming: we don't adjust albedo if it rains\n",
    "        else:\n",
    "            # If there is no precipitation we allow the albedo to decay with time until 20 days have passed after which\n",
    "            # we keep it fixed at 0.45\n",
    "            # Key shortcoming: we use the melt season albedo approximation year-round, even when it is\n",
    "            # the accumulation season\n",
    "            if has_it_snowed:\n",
    "                days_since_last_snowfall += 1\n",
    "                if days_since_last_snowfall == 0:\n",
    "                    albedo = 0.85+albedo_adjustment\n",
    "                elif days_since_last_snowfall < 21:\n",
    "                    albedo = 0.75-0.1*np.log(days_since_last_snowfall)+albedo_adjustment\n",
    "                else:\n",
    "                    albedo = 0.45+albedo_adjustment\n",
    "        forward_model.set_value(index_value, 'Albedo', albedo)\n",
    "        forward_model.set_value(index_value, 'SWE', swe)\n",
    "    return forward_model"
   ]
  },
  {
   "cell_type": "code",
   "execution_count": 6,
   "metadata": {
    "collapsed": true
   },
   "outputs": [],
   "source": [
    "# Calculate total potential snow melt to get peak SWE\n",
    "def calculate_potential_snow_melt(met_data_wy, forward_model, first_snowfree_day):\n",
    "    potential_snow_melt_df = pd.DataFrame(index=met_data_wy.truncate(after=first_snowfree_day).index, \n",
    "                                       columns=['Potential snowmelt'])\n",
    "    snowmelt_days_backwards = met_data_wy.truncate(after=first_snowfree_day).index[::-1]\n",
    "    potential_snow_melt = 0\n",
    "    for day_index in snowmelt_days_backwards:\n",
    "        melt_factor = 4.0 * ( 1 - forward_model.get_value(day_index, 'Albedo')) * np.exp( -4*locations[site]['cover'])\n",
    "        air_temp = met_data.get_value(day_index, 'ta')\n",
    "        if air_temp >= 0:\n",
    "            potential_snow_melt += melt_factor * air_temp\n",
    "        potential_snow_melt_df.set_value(day_index, 'Potential snowmelt', potential_snow_melt)\n",
    "    return potential_snow_melt_df"
   ]
  },
  {
   "cell_type": "code",
   "execution_count": 7,
   "metadata": {
    "collapsed": true
   },
   "outputs": [],
   "source": [
    "def calculate_peak_swe_and_date(met_data_wy, potential_snow_melt_df):\n",
    "    snowmelt_days_backwards = met_data_wy.truncate(after=first_snowfree_day).index[::-1]\n",
    "    for day_index in snowmelt_days_backwards:\n",
    "        today_potential_snowmelt = potential_snow_melt_df.get_value(day_index, 'Potential snowmelt')\n",
    "        thirty_days_before_potential_snowmelt = potential_snow_melt_df.iloc[potential_snow_melt_df.index.get_loc(day_index) - 30].values\n",
    "    # Assume that if the day's snowmelt has remained about the same (within 5%) of the potential snowmelt\n",
    "    # from 30 days before then the peak SWE has been reached\n",
    "        if today_potential_snowmelt/thirty_days_before_potential_snowmelt > 0.95:\n",
    "            peak_swe_day_of_year = np.where(met_data_wy.index==day_index)[0][0]\n",
    "            peak_swe_value = today_potential_snowmelt\n",
    "            break\n",
    "    return peak_swe_day_of_year, peak_swe_value"
   ]
  },
  {
   "cell_type": "code",
   "execution_count": 8,
   "metadata": {
    "collapsed": true
   },
   "outputs": [],
   "source": [
    "locations = {'Wells Creek, WA': {'site_number': '909',\n",
    "                            'latitude': '48.84375',\n",
    "                            'longitude': '-121.78125',\n",
    "                                'cover': 0.0,\n",
    "                                'color': 'b'},\n",
    "            'Truckee #2, CA' : {'site_number': '834',\n",
    "                          'latitude': '39.28125',\n",
    "                          'longitude': '-120.15625',\n",
    "                               'cover': 0.0,\n",
    "                               'color': 'g'},\n",
    "            'Beaver Dams, UT': {'site_number': '329',\n",
    "                           'latitude': '39.15625',\n",
    "                           'longitude': '-111.53125',\n",
    "                               'cover': 0.0,\n",
    "                               'color': 'orange'}}"
   ]
  },
  {
   "cell_type": "code",
   "execution_count": 14,
   "metadata": {
    "collapsed": true
   },
   "outputs": [],
   "source": [
    "results_dict = {'Peak SWE Date': {},\n",
    "               'Peak SWE Values': {}}\n",
    "years = range(2006,2011)\n",
    "for site in locations.keys():\n",
    "    results_dict['Peak SWE Date'][site] = pd.DataFrame(index=years, columns=['SNOTEL', 'Modeled'])\n",
    "    results_dict['Peak SWE Values'][site] = pd.DataFrame(index=years, columns=['SNOTEL', 'Modeled'])\n",
    "    for wy in years:\n",
    "\n",
    "        site_number = locations[site]['site_number']\n",
    "        latitude, longitude = locations[site]['latitude'], locations[site]['longitude']\n",
    "\n",
    "        # Read in SNOTEL SWE data\n",
    "        snotel = read_snotel('snotel/'+site_number+'_26_WATERYEAR='+str(wy)+'.csv')\n",
    "\n",
    "        # Calculate peak SWE from SNOTEL\n",
    "        peak_snotel_swe = snotel.max().values[0]\n",
    "        peak_snotel_swe_day_of_water_year = np.where(snotel['SWE (mm)'].index==snotel['SWE (mm)'].argmax())[0][0]\n",
    "\n",
    "\n",
    "        results_dict['Peak SWE Date'][site].set_value(wy, 'SNOTEL', peak_snotel_swe_day_of_water_year)\n",
    "        results_dict['Peak SWE Values'][site].set_value(wy, 'SNOTEL', peak_snotel_swe)\n",
    "        # Calculate first snow free day\n",
    "        # Assumptions: First snow-free day after April 1\n",
    "        first_snowfree_day = calculate_first_snowfree_day(snotel, wy)\n",
    "\n",
    "        # Read in ascii met file\n",
    "        met_data = read_ascii_vic_forcings('livneh/data_'+latitude+'_'+longitude, index=pd.date_range('1915-01-01', '2011-12-31'))\n",
    "        # Average temp to get average daily temp\n",
    "        met_data['ta'] = (met_data['tmax']+met_data['tmin'])/2\n",
    "        met_data_wy = met_data.truncate(before=str(wy-1)+'-10-01', after=str(wy)+'-09-30')\n",
    "#         snotel.plot()\n",
    "# Run model\n",
    "        forward_model = run_forward_model(met_data_wy)\n",
    "# potential_snowmelt\n",
    "        potential_snow_melt_df = calculate_potential_snow_melt(met_data_wy, forward_model, first_snowfree_day)\n",
    "#         potential_snow_melt_df.plot()\n",
    "        peak_swe_date, peak_swe = calculate_peak_swe_and_date(met_data_wy, potential_snow_melt_df)\n",
    "        results_dict['Peak SWE Date'][site].set_value(wy, 'Modeled', peak_swe_date)\n",
    "        results_dict['Peak SWE Values'][site].set_value(wy, 'Modeled', peak_swe)\n",
    "\n",
    "# Plot scatter plot of day of year\n",
    "# Plot scatter plot of max SWE"
   ]
  },
  {
   "cell_type": "code",
   "execution_count": 15,
   "metadata": {},
   "outputs": [
    {
     "data": {
      "text/plain": [
       "<matplotlib.text.Text at 0x2b855652e898>"
      ]
     },
     "execution_count": 15,
     "metadata": {},
     "output_type": "execute_result"
    },
    {
     "data": {
      "image/png": "[encoded data removed]",
      "text/plain": [
       "<matplotlib.figure.Figure at 0x2b854a0bc940>"
      ]
     },
     "metadata": {},
     "output_type": "display_data"
    }
   ],
   "source": [
    "lower_limit, upper_limit = 0, 240\n",
    "figure, axarr = plt.subplots()\n",
    "for location in locations.keys():\n",
    "    axarr.scatter(results_dict['Peak SWE Date'][location]['SNOTEL'].values, \n",
    "            results_dict['Peak SWE Date'][location]['Modeled'].values,color=locations[location]['color'])\n",
    "plt.xlim(lower_limit,upper_limit)\n",
    "plt.ylim(lower_limit,upper_limit)\n",
    "plt.plot([lower_limit, upper_limit], [lower_limit, upper_limit], color='k', linestyle='-', linewidth=2)\n",
    "plt.xlabel('SNOTEL')\n",
    "plt.ylabel('Modeled')\n",
    "plt.title('Peak SWE day of Water Year')"
   ]
  },
  {
   "cell_type": "code",
   "execution_count": 16,
   "metadata": {},
   "outputs": [
    {
     "data": {
      "text/plain": [
       "<matplotlib.text.Text at 0x2b85565a85f8>"
      ]
     },
     "execution_count": 16,
     "metadata": {},
     "output_type": "execute_result"
    },
    {
     "data": {
      "image/png": "[encoded data removed]",
      "text/plain": [
       "<matplotlib.figure.Figure at 0x2b8556550940>"
      ]
     },
     "metadata": {},
     "output_type": "display_data"
    }
   ],
   "source": [
    "lower_limit, upper_limit = 0, 1300\n",
    "figure, axarr = plt.subplots()\n",
    "for location in locations.keys():\n",
    "    axarr.scatter(results_dict['Peak SWE Values'][location]['SNOTEL'].values, \n",
    "            results_dict['Peak SWE Values'][location]['Modeled'].values,color=locations[location]['color'])\n",
    "plt.xlim(lower_limit,upper_limit)\n",
    "plt.ylim(lower_limit,upper_limit)\n",
    "plt.plot([lower_limit, upper_limit], [lower_limit, upper_limit], color='k', linestyle='-', linewidth=2)\n",
    "plt.xlabel('SNOTEL')\n",
    "plt.ylabel('Modeled')\n",
    "plt.title('Peak SWE Amount (mm)')"
   ]
  },
  {
   "cell_type": "code",
   "execution_count": 9,
   "metadata": {
    "collapsed": true
   },
   "outputs": [],
   "source": [
    "results_dict = {'Peak SWE Date': {},\n",
    "               'Peak SWE Values': {}}\n",
    "years = range(2006,2011)\n",
    "for site in locations.keys():\n",
    "    results_dict['Peak SWE Date'][site] = pd.DataFrame(index=years, columns=['SNOTEL', 'Modeled'])\n",
    "    results_dict['Peak SWE Values'][site] = pd.DataFrame(index=years, columns=['SNOTEL', 'Modeled'])\n",
    "    for wy in years:\n",
    "\n",
    "        site_number = locations[site]['site_number']\n",
    "        latitude, longitude = locations[site]['latitude'], locations[site]['longitude']\n",
    "\n",
    "        # Read in SNOTEL SWE data\n",
    "        snotel = read_snotel('snotel/'+site_number+'_26_WATERYEAR='+str(wy)+'.csv')\n",
    "\n",
    "        # Calculate peak SWE from SNOTEL\n",
    "        peak_snotel_swe = snotel.max().values[0]\n",
    "        peak_snotel_swe_day_of_water_year = np.where(snotel['SWE (mm)'].index==snotel['SWE (mm)'].argmax())[0][0]\n",
    "\n",
    "\n",
    "        results_dict['Peak SWE Date'][site].set_value(wy, 'SNOTEL', peak_snotel_swe_day_of_water_year)\n",
    "        results_dict['Peak SWE Values'][site].set_value(wy, 'SNOTEL', peak_snotel_swe)\n",
    "        # Calculate first snow free day\n",
    "        # Assumptions: First snow-free day after April 1\n",
    "        first_snowfree_day = calculate_first_snowfree_day(snotel, wy)\n",
    "\n",
    "        # Read in ascii met file\n",
    "        met_data = read_ascii_vic_forcings('livneh/data_'+latitude+'_'+longitude, index=pd.date_range('1915-01-01', '2011-12-31'))\n",
    "        # Average temp to get average daily temp\n",
    "        met_data['ta'] = (met_data['tmax']+met_data['tmin'])/2\n",
    "        met_data_wy = met_data.truncate(before=str(wy-1)+'-10-01', after=str(wy)+'-09-30')\n",
    "#         snotel.plot()\n",
    "# Run model\n",
    "        forward_model = run_forward_model(met_data_wy, albedo_adjustment=-0.3)\n",
    "# potential_snowmelt\n",
    "        potential_snow_melt_df = calculate_potential_snow_melt(met_data_wy, forward_model, first_snowfree_day)\n",
    "#         potential_snow_melt_df.plot()\n",
    "        peak_swe_date, peak_swe = calculate_peak_swe_and_date(met_data_wy, potential_snow_melt_df)\n",
    "        results_dict['Peak SWE Date'][site].set_value(wy, 'Modeled', peak_swe_date)\n",
    "        results_dict['Peak SWE Values'][site].set_value(wy, 'Modeled', peak_swe)"
   ]
  },
  {
   "cell_type": "code",
   "execution_count": 13,
   "metadata": {},
   "outputs": [
    {
     "data": {
      "text/plain": [
       "<matplotlib.text.Text at 0x2b85564b3dd8>"
      ]
     },
     "execution_count": 13,
     "metadata": {},
     "output_type": "execute_result"
    },
    {
     "data": {
      "image/png": "[encoded data removed]",
      "text/plain": [
       "<matplotlib.figure.Figure at 0x2b855646bda0>"
      ]
     },
     "metadata": {},
     "output_type": "display_data"
    }
   ],
   "source": [
    "lower_limit, upper_limit = 0, 240\n",
    "figure, axarr = plt.subplots()\n",
    "for location in locations.keys():\n",
    "    axarr.scatter(results_dict['Peak SWE Date'][location]['SNOTEL'].values, \n",
    "            results_dict['Peak SWE Date'][location]['Modeled'].values,color=locations[location]['color'])\n",
    "plt.xlim(lower_limit,upper_limit)\n",
    "plt.ylim(lower_limit,upper_limit)\n",
    "plt.plot([lower_limit, upper_limit], [lower_limit, upper_limit], color='k', linestyle='-', linewidth=2)\n",
    "plt.xlabel('SNOTEL')\n",
    "plt.ylabel('Modeled')\n",
    "plt.title('Peak SWE day of water year')"
   ]
  },
  {
   "cell_type": "code",
   "execution_count": 11,
   "metadata": {},
   "outputs": [
    {
     "data": {
      "text/plain": [
       "<matplotlib.text.Text at 0x2b85563c2cc0>"
      ]
     },
     "execution_count": 11,
     "metadata": {},
     "output_type": "execute_result"
    },
    {
     "data": {
      "image/png": "[encoded data removed]",
      "text/plain": [
       "<matplotlib.figure.Figure at 0x2b855625d160>"
      ]
     },
     "metadata": {},
     "output_type": "display_data"
    }
   ],
   "source": [
    "lower_limit, upper_limit = 0, 1300\n",
    "figure, axarr = plt.subplots()\n",
    "for location in locations.keys():\n",
    "    axarr.scatter(results_dict['Peak SWE Values'][location]['SNOTEL'].values, \n",
    "            results_dict['Peak SWE Values'][location]['Modeled'].values,color=locations[location]['color'])\n",
    "plt.xlim(lower_limit,upper_limit)\n",
    "plt.ylim(lower_limit,upper_limit)\n",
    "plt.plot([lower_limit, upper_limit], [lower_limit, upper_limit], color='k', linestyle='-', linewidth=2)\n",
    "plt.xlabel('SNOTEL')\n",
    "plt.ylabel('Modeled')\n",
    "plt.title('Peak SWE Amount (mm)')"
   ]
  },
  {
   "cell_type": "code",
   "execution_count": null,
   "metadata": {
    "collapsed": true
   },
   "outputs": [],
   "source": [
    "## Bonus extra tidbits\n",
    "# Difference between SWE fall and total potential snowmelt "
   ]
  }
 ],
 "metadata": {
  "kernelspec": {
   "display_name": "Python 3",
   "language": "python",
   "name": "python3"
  },
  "language_info": {
   "codemirror_mode": {
    "name": "ipython",
    "version": 3
   },
   "file_extension": ".py",
   "mimetype": "text/x-python",
   "name": "python",
   "nbconvert_exporter": "python",
   "pygments_lexer": "ipython3",
   "version": "3.5.4"
  }
 },
 "nbformat": 4,
 "nbformat_minor": 2
}
